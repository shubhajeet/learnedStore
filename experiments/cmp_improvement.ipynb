{
 "cells": [
  {
   "cell_type": "code",
   "execution_count": 1,
   "metadata": {},
   "outputs": [],
   "source": [
    "import matplotlib.pyplot as plt\n",
    "import sys\n",
    "import numpy as np\n",
    "import pandas as pd\n",
    "%matplotlib inline"
   ]
  },
  {
   "attachments": {},
   "cell_type": "markdown",
   "metadata": {},
   "source": [
    "# Extract data\n",
    "\n",
    "The code extracts the average throughput data from the log file"
   ]
  },
  {
   "cell_type": "code",
   "execution_count": 2,
   "metadata": {},
   "outputs": [],
   "source": [
    "import re\n",
    "import os\n",
    "\n",
    "def read_throughput(input_files, data=None):\n",
    "    print(input_files)\n",
    "    # Regular expression pattern to match the Mops/s value\n",
    "    patterns = [r'readall\\s+:\\s+\\d+\\.\\d+\\smicros/op\\s+(\\d+\\.\\d+)\\sMops/s',\n",
    "               r'readallwithlr\\s+:\\s+\\d+\\.\\d+\\smicros/op\\s+(\\d+\\.\\d+)\\sMops/s',\n",
    "               r'readallwithrs\\s+:\\s+\\d+\\.\\d+\\smicros/op\\s+(\\d+\\.\\d+)\\sMops/s',\n",
    "               r'readallwithseg\\s+:\\s+\\d+\\.\\d+\\smicros/op\\s+(\\d+\\.\\d+)\\sMops/s']\n",
    "    benchmarks = ['readall', 'readallwithlr', 'readallwithrs', 'readallwithseg']\n",
    "    if data == None:\n",
    "        # data = [[\"dataset\", \"readall\", \"readallwithlr\", \"readallwithrs\", \"readallwithseg\"]]\n",
    "        data = [[\"dataset\", \"LeanStore\", \"LinearReg\", \"BinarySearch\", \"AttachedOnNode\"]]\n",
    "    # Open the input file and read the contents\n",
    "    for input_file in input_files:\n",
    "        with open(input_file, 'r') as file:\n",
    "            row = [os.path.basename(input_file)[:-7]]\n",
    "            content = file.read()\n",
    "            # Find all matches of the pattern in the content\n",
    "            for pattern in patterns:\n",
    "                matches = re.findall(pattern, content)\n",
    "                # Prepare the data for CSV writing\n",
    "                for i, match in enumerate(matches):\n",
    "                    benchmark = benchmarks[i]\n",
    "                    mops = float(match)\n",
    "                    row.append(mops)\n",
    "                    # print(f'{benchmark}: {mops} Mops/s')\n",
    "            data.append(row)\n",
    "    return data\n",
    "    # print(data)"
   ]
  },
  {
   "cell_type": "code",
   "execution_count": 3,
   "metadata": {},
   "outputs": [
    {
     "name": "stdout",
     "output_type": "stream",
     "text": [
      "['../logs/linear_rs.log', '../logs/pieceLinear_rs.log', '../logs/books_rs.log', '../logs/fb_rs.log', '../logs/lognormal_rs.log', '../logs/normal_rs.log', '../logs/uniform_sparse_rs.log', '../logs/uniform_dense_rs.log', '../logs/lineargen_rs.log', '../logs/randomgen_rs.log']\n"
     ]
    }
   ],
   "source": [
    "dataset = [\"linear\", \"pieceLinear\", \"books\", \"fb\", \"lognormal\", \"normal\", \"uniform_sparse\", \"uniform_dense\",\"lineargen\", \"randomgen\"]\n",
    "datasets = [f'../logs/{d}_rs.log' for d in dataset]\n",
    "data = read_throughput(datasets)"
   ]
  },
  {
   "cell_type": "code",
   "execution_count": 4,
   "metadata": {},
   "outputs": [
    {
     "data": {
      "text/plain": [
       "[['dataset', 'LeanStore', 'LinearReg', 'BinarySearch', 'AttachedOnNode'],\n",
       " ['linear', 0.891953, 1.360313, 1.387547, 1.247687],\n",
       " ['pieceLinear', 0.885182, 0.66776, 1.301088, 1.138697],\n",
       " ['books', 1.011511, 0.806695, 1.184555, 0.978662],\n",
       " ['fb', 0.927369, 0.893571, 1.059831, 0.856338],\n",
       " ['lognormal', 0.975387, 0.901426, 1.238956, 1.051257],\n",
       " ['normal', 1.007072, 0.597149, 1.207815, 1.058788],\n",
       " ['uniform_sparse', 1.005024, 1.043918, 1.202426, 1.02185],\n",
       " ['uniform_dense', 0.899914, 1.398975, 1.414139, 1.27741],\n",
       " ['lineargen', 0.890292, 1.361419, 1.377081, 1.250148],\n",
       " ['randomgen', 0.971446, 0.705245, 1.19417, 1.010873]]"
      ]
     },
     "execution_count": 4,
     "metadata": {},
     "output_type": "execute_result"
    }
   ],
   "source": [
    "data"
   ]
  },
  {
   "cell_type": "code",
   "execution_count": 5,
   "metadata": {},
   "outputs": [],
   "source": [
    "df = pd.DataFrame(data[1:], columns=data[0])\n",
    "df.set_index('dataset', inplace=True)"
   ]
  },
  {
   "cell_type": "code",
   "execution_count": 6,
   "metadata": {},
   "outputs": [
    {
     "data": {
      "text/html": [
       "<div>\n",
       "<style scoped>\n",
       "    .dataframe tbody tr th:only-of-type {\n",
       "        vertical-align: middle;\n",
       "    }\n",
       "\n",
       "    .dataframe tbody tr th {\n",
       "        vertical-align: top;\n",
       "    }\n",
       "\n",
       "    .dataframe thead th {\n",
       "        text-align: right;\n",
       "    }\n",
       "</style>\n",
       "<table border=\"1\" class=\"dataframe\">\n",
       "  <thead>\n",
       "    <tr style=\"text-align: right;\">\n",
       "      <th></th>\n",
       "      <th>LeanStore</th>\n",
       "      <th>LinearReg</th>\n",
       "      <th>BinarySearch</th>\n",
       "      <th>AttachedOnNode</th>\n",
       "    </tr>\n",
       "    <tr>\n",
       "      <th>dataset</th>\n",
       "      <th></th>\n",
       "      <th></th>\n",
       "      <th></th>\n",
       "      <th></th>\n",
       "    </tr>\n",
       "  </thead>\n",
       "  <tbody>\n",
       "    <tr>\n",
       "      <th>linear</th>\n",
       "      <td>0.891953</td>\n",
       "      <td>1.360313</td>\n",
       "      <td>1.387547</td>\n",
       "      <td>1.247687</td>\n",
       "    </tr>\n",
       "    <tr>\n",
       "      <th>pieceLinear</th>\n",
       "      <td>0.885182</td>\n",
       "      <td>0.667760</td>\n",
       "      <td>1.301088</td>\n",
       "      <td>1.138697</td>\n",
       "    </tr>\n",
       "    <tr>\n",
       "      <th>books</th>\n",
       "      <td>1.011511</td>\n",
       "      <td>0.806695</td>\n",
       "      <td>1.184555</td>\n",
       "      <td>0.978662</td>\n",
       "    </tr>\n",
       "    <tr>\n",
       "      <th>fb</th>\n",
       "      <td>0.927369</td>\n",
       "      <td>0.893571</td>\n",
       "      <td>1.059831</td>\n",
       "      <td>0.856338</td>\n",
       "    </tr>\n",
       "    <tr>\n",
       "      <th>lognormal</th>\n",
       "      <td>0.975387</td>\n",
       "      <td>0.901426</td>\n",
       "      <td>1.238956</td>\n",
       "      <td>1.051257</td>\n",
       "    </tr>\n",
       "    <tr>\n",
       "      <th>normal</th>\n",
       "      <td>1.007072</td>\n",
       "      <td>0.597149</td>\n",
       "      <td>1.207815</td>\n",
       "      <td>1.058788</td>\n",
       "    </tr>\n",
       "    <tr>\n",
       "      <th>uniform_sparse</th>\n",
       "      <td>1.005024</td>\n",
       "      <td>1.043918</td>\n",
       "      <td>1.202426</td>\n",
       "      <td>1.021850</td>\n",
       "    </tr>\n",
       "    <tr>\n",
       "      <th>uniform_dense</th>\n",
       "      <td>0.899914</td>\n",
       "      <td>1.398975</td>\n",
       "      <td>1.414139</td>\n",
       "      <td>1.277410</td>\n",
       "    </tr>\n",
       "    <tr>\n",
       "      <th>lineargen</th>\n",
       "      <td>0.890292</td>\n",
       "      <td>1.361419</td>\n",
       "      <td>1.377081</td>\n",
       "      <td>1.250148</td>\n",
       "    </tr>\n",
       "    <tr>\n",
       "      <th>randomgen</th>\n",
       "      <td>0.971446</td>\n",
       "      <td>0.705245</td>\n",
       "      <td>1.194170</td>\n",
       "      <td>1.010873</td>\n",
       "    </tr>\n",
       "  </tbody>\n",
       "</table>\n",
       "</div>"
      ],
      "text/plain": [
       "                LeanStore  LinearReg  BinarySearch  AttachedOnNode\n",
       "dataset                                                           \n",
       "linear           0.891953   1.360313      1.387547        1.247687\n",
       "pieceLinear      0.885182   0.667760      1.301088        1.138697\n",
       "books            1.011511   0.806695      1.184555        0.978662\n",
       "fb               0.927369   0.893571      1.059831        0.856338\n",
       "lognormal        0.975387   0.901426      1.238956        1.051257\n",
       "normal           1.007072   0.597149      1.207815        1.058788\n",
       "uniform_sparse   1.005024   1.043918      1.202426        1.021850\n",
       "uniform_dense    0.899914   1.398975      1.414139        1.277410\n",
       "lineargen        0.890292   1.361419      1.377081        1.250148\n",
       "randomgen        0.971446   0.705245      1.194170        1.010873"
      ]
     },
     "execution_count": 6,
     "metadata": {},
     "output_type": "execute_result"
    }
   ],
   "source": [
    "df"
   ]
  },
  {
   "cell_type": "code",
   "execution_count": 19,
   "metadata": {},
   "outputs": [],
   "source": [
    "#%%writefile bar.py\n",
    "import matplotlib.pyplot as plt\n",
    "import numpy as np\n",
    "\n",
    "def bar_(df):\n",
    "    fig, ax = plt.subplots()\n",
    "    x = np.arange(len(df.index.tolist()))\n",
    "    ax.bar(x,df[\"improvement\"],width=0.6)\n",
    "    ax.set_xlabel(\"Dataset\")\n",
    "    ax.set_ylabel(\"Improvement (%)\")\n",
    "    # ax.set_title(\"Improvement of LeanStore when using Learned Index to jump to leaf node\")\n",
    "    # print(df.index.tolist())\n",
    "    ax.set_xticks(x,df.index.tolist())\n",
    "    ax.set_xticklabels(df.columns.tolist(), rotation=45)\n",
    "    return fig, ax"
   ]
  },
  {
   "cell_type": "code",
   "execution_count": 15,
   "metadata": {},
   "outputs": [],
   "source": [
    "# %%writefile grouped_bar.py\n",
    "\n",
    "import matplotlib.pyplot as plt\n",
    "import pandas as pd\n",
    "import numpy as np\n",
    "import os\n",
    "\n",
    "def grouped_bar_(df, categories, datasets):\n",
    "    # Generate a color map with num_categories colors\n",
    "    cmap = plt.get_cmap('tab20c')\n",
    "\n",
    "    # Generate a list of colors\n",
    "    colors = [cmap(i) for i in np.linspace(0, 1, len(categories))]\n",
    "    # Define colors for each dataset\n",
    "    # colors = ['#1f77b4', '#ff7f0e']\n",
    "\n",
    "    # Create a figure and axis object\n",
    "    fig, ax = plt.subplots()\n",
    "\n",
    "    bar_width = 0.8 / len(categories)\n",
    "\n",
    "    # x_pos = [i for i in range(len(datasets))]\n",
    "    x_pos = np.arange(len(datasets))\n",
    "\n",
    "    # Create a grouped bar chart for each dataset\n",
    "    for j, category in enumerate(categories):\n",
    "        # values = np.ndarray([df[dataset].tolist()[j] for dataset in datasets])\n",
    "        # values = [df[dataset].tolist()[j] for dataset in datasets]\n",
    "        values = df[category].loc[datasets].tolist()\n",
    "        # x_positions = [ i  + j * bar_width for i in x_pos]\n",
    "        x_positions = x_pos + j * bar_width\n",
    "        ax.bar(x_positions, values, width=bar_width, label=category, color=colors[j])\n",
    "    # Set the chart properties\n",
    "    ax.set_xticks(x_pos)\n",
    "    ax.set_xticklabels(datasets,\n",
    "                    rotation=45, horizontalalignment='right')\n",
    "    # Set chart properties\n",
    "    # ax.set_title('Throughput for each dataset')\n",
    "    ax.set_xlabel('Dataset')\n",
    "    ax.set_ylabel('Throughput (Mops/s)')\n",
    "    ax.legend(bbox_to_anchor=(1.05, 1), loc='upper left')\n",
    "    return fig, ax"
   ]
  },
  {
   "cell_type": "code",
   "execution_count": 16,
   "metadata": {},
   "outputs": [
    {
     "data": {
      "image/png": "[encoded data removed]",
      "text/plain": [
       "<Figure size 640x480 with 1 Axes>"
      ]
     },
     "metadata": {},
     "output_type": "display_data"
    }
   ],
   "source": [
    "\n",
    "# Define datasets and categories\n",
    "# categories = df.columns.tolist()\n",
    "# datasets = df.index.tolist()\n",
    "categories = [\"LeanStore\", \"BinarySearch\", \"AttachedOnNode\"]\n",
    "datasets = [\"lineargen\",\"pieceLinear\", \"randomgen\",\"books\", \"fb\", \"lognormal\", \"normal\"]\n",
    "\n",
    "fig, ax = grouped_bar_(df, categories, datasets)\n",
    "fig.savefig('../logs/readonly_improvement.png', bbox_inches='tight')"
   ]
  },
  {
   "cell_type": "code",
   "execution_count": 21,
   "metadata": {},
   "outputs": [
    {
     "data": {
      "image/png": "[encoded data removed]",
      "text/plain": [
       "<Figure size 640x480 with 1 Axes>"
      ]
     },
     "metadata": {},
     "output_type": "display_data"
    }
   ],
   "source": [
    "newdf = pd.DataFrame()\n",
    "newdf[\"improvement\"] = (-df[\"LeanStore\"] + df[\"BinarySearch\"]) / df[\"LeanStore\"] * 100\n",
    "fig, ax = bar_(newdf)\n",
    "fig.savefig(\"../logs/rs_improvement.png\", bbox_inches='tight')"
   ]
  },
  {
   "cell_type": "code",
   "execution_count": 22,
   "metadata": {},
   "outputs": [
    {
     "ename": "KeyError",
     "evalue": "'LearnedStore'",
     "output_type": "error",
     "traceback": [
      "\u001b[0;31m---------------------------------------------------------------------------\u001b[0m",
      "\u001b[0;31mKeyError\u001b[0m                                  Traceback (most recent call last)",
      "File \u001b[0;32m~/anaconda3/envs/cam-env/lib/python3.8/site-packages/pandas/core/indexes/base.py:2897\u001b[0m, in \u001b[0;36mIndex.get_loc\u001b[0;34m(self, key, method, tolerance)\u001b[0m\n\u001b[1;32m   2896\u001b[0m \u001b[39mtry\u001b[39;00m:\n\u001b[0;32m-> 2897\u001b[0m     \u001b[39mreturn\u001b[39;00m \u001b[39mself\u001b[39;49m\u001b[39m.\u001b[39;49m_engine\u001b[39m.\u001b[39;49mget_loc(key)\n\u001b[1;32m   2898\u001b[0m \u001b[39mexcept\u001b[39;00m \u001b[39mKeyError\u001b[39;00m:\n",
      "File \u001b[0;32mpandas/_libs/index.pyx:107\u001b[0m, in \u001b[0;36mpandas._libs.index.IndexEngine.get_loc\u001b[0;34m()\u001b[0m\n",
      "File \u001b[0;32mpandas/_libs/index.pyx:131\u001b[0m, in \u001b[0;36mpandas._libs.index.IndexEngine.get_loc\u001b[0;34m()\u001b[0m\n",
      "File \u001b[0;32mpandas/_libs/hashtable_class_helper.pxi:1607\u001b[0m, in \u001b[0;36mpandas._libs.hashtable.PyObjectHashTable.get_item\u001b[0;34m()\u001b[0m\n",
      "File \u001b[0;32mpandas/_libs/hashtable_class_helper.pxi:1614\u001b[0m, in \u001b[0;36mpandas._libs.hashtable.PyObjectHashTable.get_item\u001b[0;34m()\u001b[0m\n",
      "\u001b[0;31mKeyError\u001b[0m: 'LearnedStore'",
      "\nDuring handling of the above exception, another exception occurred:\n",
      "\u001b[0;31mKeyError\u001b[0m                                  Traceback (most recent call last)",
      "Cell \u001b[0;32mIn[22], line 2\u001b[0m\n\u001b[1;32m      1\u001b[0m newdf \u001b[39m=\u001b[39m pd\u001b[39m.\u001b[39mDataFrame()\n\u001b[0;32m----> 2\u001b[0m newdf[\u001b[39m\"\u001b[39m\u001b[39mimprovement\u001b[39m\u001b[39m\"\u001b[39m] \u001b[39m=\u001b[39m (\u001b[39m-\u001b[39mdf[\u001b[39m\"\u001b[39m\u001b[39mLeanStore\u001b[39m\u001b[39m\"\u001b[39m] \u001b[39m+\u001b[39m df[\u001b[39m\"\u001b[39;49m\u001b[39mLearnedStore\u001b[39;49m\u001b[39m\"\u001b[39;49m]) \u001b[39m/\u001b[39m df[\u001b[39m\"\u001b[39m\u001b[39mLeanStore\u001b[39m\u001b[39m\"\u001b[39m] \u001b[39m*\u001b[39m \u001b[39m100\u001b[39m\n\u001b[1;32m      3\u001b[0m newdf \u001b[39m=\u001b[39m newdf\u001b[39m.\u001b[39mloc[[\u001b[39m\"\u001b[39m\u001b[39mlinear\u001b[39m\u001b[39m\"\u001b[39m, \u001b[39m\"\u001b[39m\u001b[39mpieceLinear\u001b[39m\u001b[39m\"\u001b[39m,\u001b[39m\"\u001b[39m\u001b[39mnormal\u001b[39m\u001b[39m\"\u001b[39m]]\n\u001b[1;32m      4\u001b[0m fig, ax \u001b[39m=\u001b[39m bar_(newdf)\n",
      "File \u001b[0;32m~/anaconda3/envs/cam-env/lib/python3.8/site-packages/pandas/core/frame.py:2995\u001b[0m, in \u001b[0;36mDataFrame.__getitem__\u001b[0;34m(self, key)\u001b[0m\n\u001b[1;32m   2993\u001b[0m \u001b[39mif\u001b[39;00m \u001b[39mself\u001b[39m\u001b[39m.\u001b[39mcolumns\u001b[39m.\u001b[39mnlevels \u001b[39m>\u001b[39m \u001b[39m1\u001b[39m:\n\u001b[1;32m   2994\u001b[0m     \u001b[39mreturn\u001b[39;00m \u001b[39mself\u001b[39m\u001b[39m.\u001b[39m_getitem_multilevel(key)\n\u001b[0;32m-> 2995\u001b[0m indexer \u001b[39m=\u001b[39m \u001b[39mself\u001b[39;49m\u001b[39m.\u001b[39;49mcolumns\u001b[39m.\u001b[39;49mget_loc(key)\n\u001b[1;32m   2996\u001b[0m \u001b[39mif\u001b[39;00m is_integer(indexer):\n\u001b[1;32m   2997\u001b[0m     indexer \u001b[39m=\u001b[39m [indexer]\n",
      "File \u001b[0;32m~/anaconda3/envs/cam-env/lib/python3.8/site-packages/pandas/core/indexes/base.py:2899\u001b[0m, in \u001b[0;36mIndex.get_loc\u001b[0;34m(self, key, method, tolerance)\u001b[0m\n\u001b[1;32m   2897\u001b[0m         \u001b[39mreturn\u001b[39;00m \u001b[39mself\u001b[39m\u001b[39m.\u001b[39m_engine\u001b[39m.\u001b[39mget_loc(key)\n\u001b[1;32m   2898\u001b[0m     \u001b[39mexcept\u001b[39;00m \u001b[39mKeyError\u001b[39;00m:\n\u001b[0;32m-> 2899\u001b[0m         \u001b[39mreturn\u001b[39;00m \u001b[39mself\u001b[39;49m\u001b[39m.\u001b[39;49m_engine\u001b[39m.\u001b[39;49mget_loc(\u001b[39mself\u001b[39;49m\u001b[39m.\u001b[39;49m_maybe_cast_indexer(key))\n\u001b[1;32m   2900\u001b[0m indexer \u001b[39m=\u001b[39m \u001b[39mself\u001b[39m\u001b[39m.\u001b[39mget_indexer([key], method\u001b[39m=\u001b[39mmethod, tolerance\u001b[39m=\u001b[39mtolerance)\n\u001b[1;32m   2901\u001b[0m \u001b[39mif\u001b[39;00m indexer\u001b[39m.\u001b[39mndim \u001b[39m>\u001b[39m \u001b[39m1\u001b[39m \u001b[39mor\u001b[39;00m indexer\u001b[39m.\u001b[39msize \u001b[39m>\u001b[39m \u001b[39m1\u001b[39m:\n",
      "File \u001b[0;32mpandas/_libs/index.pyx:107\u001b[0m, in \u001b[0;36mpandas._libs.index.IndexEngine.get_loc\u001b[0;34m()\u001b[0m\n",
      "File \u001b[0;32mpandas/_libs/index.pyx:131\u001b[0m, in \u001b[0;36mpandas._libs.index.IndexEngine.get_loc\u001b[0;34m()\u001b[0m\n",
      "File \u001b[0;32mpandas/_libs/hashtable_class_helper.pxi:1607\u001b[0m, in \u001b[0;36mpandas._libs.hashtable.PyObjectHashTable.get_item\u001b[0;34m()\u001b[0m\n",
      "File \u001b[0;32mpandas/_libs/hashtable_class_helper.pxi:1614\u001b[0m, in \u001b[0;36mpandas._libs.hashtable.PyObjectHashTable.get_item\u001b[0;34m()\u001b[0m\n",
      "\u001b[0;31mKeyError\u001b[0m: 'LearnedStore'"
     ]
    }
   ],
   "source": [
    "newdf = pd.DataFrame()\n",
    "newdf[\"improvement\"] = (-df[\"LeanStore\"] + df[\"LearnedStore\"]) / df[\"LeanStore\"] * 100\n",
    "newdf = newdf.loc[[\"linear\", \"pieceLinear\",\"normal\"]]\n",
    "fig, ax = bar_(newdf)\n",
    "\n",
    "fig.savefig(\"../logs/seg_improvement.png\", bbox_inches='tight')"
   ]
  },
  {
   "cell_type": "code",
   "execution_count": 23,
   "metadata": {},
   "outputs": [
    {
     "data": {
      "image/png": "[encoded data removed]",
      "text/plain": [
       "<Figure size 640x480 with 1 Axes>"
      ]
     },
     "metadata": {},
     "output_type": "display_data"
    }
   ],
   "source": [
    "newdf = pd.DataFrame()\n",
    "newdf[\"improvement\"] = (-df[\"LeanStore\"] + df[\"LinearReg\"]) / df[\"LeanStore\"] * 100\n",
    "newdf = newdf.loc[['linear', 'pieceLinear','normal']]\n",
    "fig, ax = bar_(newdf)\n",
    "fig.savefig(\"../logs/lr_improvement.png\", bbox_inches='tight')"
   ]
  },
  {
   "cell_type": "code",
   "execution_count": null,
   "metadata": {},
   "outputs": [],
   "source": []
  }
 ],
 "metadata": {
  "kernelspec": {
   "display_name": "base",
   "language": "python",
   "name": "python3"
  },
  "language_info": {
   "codemirror_mode": {
    "name": "ipython",
    "version": 3
   },
   "file_extension": ".py",
   "mimetype": "text/x-python",
   "name": "python",
   "nbconvert_exporter": "python",
   "pygments_lexer": "ipython3",
   "version": "3.9.12"
  },
  "orig_nbformat": 4
 },
 "nbformat": 4,
 "nbformat_minor": 2
}
